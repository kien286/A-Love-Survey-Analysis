{
 "cells": [
  {
   "cell_type": "code",
   "execution_count": 1,
   "id": "223d295f",
   "metadata": {},
   "outputs": [
    {
     "data": {
      "text/plain": [
       "(201, 79)"
      ]
     },
     "execution_count": 1,
     "metadata": {},
     "output_type": "execute_result"
    }
   ],
   "source": [
    "import pandas as pd\n",
    "import numpy as np\n",
    "lol = pd.read_csv('luveri_survey.csv')\n",
    "lol = lol[lol['RequesterFeedback'].isnull()]\n",
    "lol = lol[lol['Answer.inNo.on'] == False]\n",
    "lol = lol.reset_index(drop=True)\n",
    "lol.shape"
   ]
  },
  {
   "cell_type": "code",
   "execution_count": 2,
   "id": "39e5b03a",
   "metadata": {},
   "outputs": [],
   "source": [
    "features = [\n",
    "'Answer.longYes.on',\n",
    "\n",
    "\n",
    "'Answer.asian.on', 'Answer.white.on','Answer.other.on','Answer.hislatin.on','Answer.mix.on','Answer.black.on',\n",
    "'Answer.belowIncome.on','Answer.aboveIncome.on', 'Answer.middleIncome.on',\n",
    "'Answer.belowIncomePartner.on','Answer.middleIncomePartner.on','Answer.aboveIncomePartner.on','Answer.mixPartner.on',\n",
    "'Answer.blackPartner.on','Answer.whitePartner.on','Answer.asianPartner.on','Answer.hislatinPartner.on','Answer.otherPartner.on',\n",
    "'Answer.school',\n",
    "'Answer.schoolPartner',\n",
    "'Answer.work',\n",
    "'Answer.workPartner',\n",
    "'Answer.howOld',\n",
    "'Answer.howOldPartner',\n",
    "\n",
    "'Answer.call',\n",
    "'Answer.confident',\n",
    "'Answer.future', \n",
    "'Answer.leisure',\n",
    "'Answer.appYes.on',\n",
    "'Answer.love',\n",
    "'Answer.nameYes.on',\n",
    "'Answer.specialDay',\n",
    "'Answer.text',\n",
    "'Answer.without', # Spend time without partners\n",
    "\n",
    "'Answer.luveri.cmt', 'Answer.luveri.gallery', 'Answer.luveri.home',\n",
    "'Answer.luveri.map', 'Answer.luveri.note', 'Answer.luveri.timeline',\n",
    "'Answer.luveri.watch','Answer.luveri.chat',\n",
    "]"
   ]
  },
  {
   "cell_type": "code",
   "execution_count": 3,
   "id": "391f950a",
   "metadata": {},
   "outputs": [],
   "source": [
    "def mutual_information( feature,label):\n",
    "    \n",
    "    allvalues = list(set(lol[feature]))\n",
    "    alllabels = list(set(lol[label]))\n",
    "    \n",
    "    x = len(alllabels)\n",
    "    y = len(allvalues)\n",
    "    \n",
    "    size = lol.shape[0]\n",
    "    \n",
    "    distribution_table = np.zeros([x, y])\n",
    "    for i in range(x):\n",
    "        for j in range(y):\n",
    "            distribution_table[i][j] = np.sum((lol[label] == alllabels[i]) & (lol[feature] == allvalues[j]))/size\n",
    "            \n",
    "    marginalx = np.sum(distribution_table, axis = 1)\n",
    "    marginaly = np.sum(distribution_table, axis = 0)\n",
    "    distribution_table[distribution_table==0] =1\n",
    "    marginalx[marginalx == 0] = 1\n",
    "\n",
    "    marginaly[marginaly == 0] = 1\n",
    "    \n",
    "    Hxy = np.sum(- distribution_table * np.log(distribution_table))\n",
    "    Hx = np.sum(- marginalx * np.log(marginalx))\n",
    "    Hy = np.sum(- marginaly * np.log(marginaly))\n",
    "    return Hx + Hy -Hxy"
   ]
  },
  {
   "cell_type": "code",
   "execution_count": 4,
   "id": "c6d2667b",
   "metadata": {},
   "outputs": [],
   "source": [
    "from scipy.stats import chi2_contingency\n",
    "\n",
    "def independence(feature,label):\n",
    "\n",
    "    allvalues = list(set(lol[feature]))\n",
    "    alllabels = list(set(lol[label]))\n",
    "    x = len(alllabels)\n",
    "    y = len(allvalues)\n",
    "    size = lol.shape[0]\n",
    "    distribution_table = np.zeros([x, y])\n",
    "\n",
    "    for i in range(x):\n",
    "        for j in range(y):\n",
    "            distribution_table[i][j] = np.sum((lol[label] == alllabels[i]) & (lol[feature] == allvalues[j]))\n",
    "\n",
    "    return chi2_contingency(distribution_table)[1] # p-value for H0: independence"
   ]
  },
  {
   "cell_type": "code",
   "execution_count": 5,
   "id": "9abaa5e7",
   "metadata": {
    "scrolled": true
   },
   "outputs": [
    {
     "data": {
      "text/plain": [
       "0.3811170001850366"
      ]
     },
     "execution_count": 5,
     "metadata": {},
     "output_type": "execute_result"
    }
   ],
   "source": [
    "mutual_information('Answer.love', 'Answer.confident')"
   ]
  },
  {
   "cell_type": "code",
   "execution_count": 6,
   "id": "8798e3c6",
   "metadata": {},
   "outputs": [],
   "source": [
    "lol['years_diff'] = np.abs(lol['Answer.howOld'] - lol['Answer.howOldPartner'])"
   ]
  },
  {
   "cell_type": "code",
   "execution_count": 7,
   "id": "197d4fa9",
   "metadata": {
    "scrolled": true
   },
   "outputs": [
    {
     "data": {
      "text/html": [
       "<div>\n",
       "<style scoped>\n",
       "    .dataframe tbody tr th:only-of-type {\n",
       "        vertical-align: middle;\n",
       "    }\n",
       "\n",
       "    .dataframe tbody tr th {\n",
       "        vertical-align: top;\n",
       "    }\n",
       "\n",
       "    .dataframe thead th {\n",
       "        text-align: right;\n",
       "    }\n",
       "</style>\n",
       "<table border=\"1\" class=\"dataframe\">\n",
       "  <thead>\n",
       "    <tr style=\"text-align: right;\">\n",
       "      <th></th>\n",
       "      <th>features</th>\n",
       "      <th>Mutual_Information</th>\n",
       "      <th>Corr</th>\n",
       "      <th>pvalue</th>\n",
       "    </tr>\n",
       "  </thead>\n",
       "  <tbody>\n",
       "    <tr>\n",
       "      <th>20</th>\n",
       "      <td>Answer.confident</td>\n",
       "      <td>2.034060</td>\n",
       "      <td>1.000000</td>\n",
       "      <td>0.000000e+00</td>\n",
       "    </tr>\n",
       "    <tr>\n",
       "      <th>26</th>\n",
       "      <td>Answer.specialDay</td>\n",
       "      <td>0.493240</td>\n",
       "      <td>0.617947</td>\n",
       "      <td>1.686107e-18</td>\n",
       "    </tr>\n",
       "    <tr>\n",
       "      <th>22</th>\n",
       "      <td>Answer.leisure</td>\n",
       "      <td>0.472726</td>\n",
       "      <td>0.512281</td>\n",
       "      <td>4.018918e-18</td>\n",
       "    </tr>\n",
       "    <tr>\n",
       "      <th>21</th>\n",
       "      <td>Answer.future</td>\n",
       "      <td>0.401133</td>\n",
       "      <td>0.443235</td>\n",
       "      <td>1.665181e-17</td>\n",
       "    </tr>\n",
       "    <tr>\n",
       "      <th>24</th>\n",
       "      <td>Answer.love</td>\n",
       "      <td>0.381117</td>\n",
       "      <td>0.460289</td>\n",
       "      <td>4.355942e-16</td>\n",
       "    </tr>\n",
       "    <tr>\n",
       "      <th>19</th>\n",
       "      <td>Answer.call</td>\n",
       "      <td>0.335060</td>\n",
       "      <td>0.272481</td>\n",
       "      <td>8.715662e-08</td>\n",
       "    </tr>\n",
       "    <tr>\n",
       "      <th>27</th>\n",
       "      <td>Answer.text</td>\n",
       "      <td>0.317113</td>\n",
       "      <td>0.273128</td>\n",
       "      <td>7.406160e-06</td>\n",
       "    </tr>\n",
       "    <tr>\n",
       "      <th>28</th>\n",
       "      <td>Answer.without</td>\n",
       "      <td>0.297877</td>\n",
       "      <td>0.005659</td>\n",
       "      <td>2.504705e-02</td>\n",
       "    </tr>\n",
       "    <tr>\n",
       "      <th>23</th>\n",
       "      <td>Answer.appYes.on</td>\n",
       "      <td>0.071308</td>\n",
       "      <td>-0.233246</td>\n",
       "      <td>5.690819e-03</td>\n",
       "    </tr>\n",
       "    <tr>\n",
       "      <th>14</th>\n",
       "      <td>Answer.blackPartner.on</td>\n",
       "      <td>0.046867</td>\n",
       "      <td>0.020015</td>\n",
       "      <td>2.350546e-02</td>\n",
       "    </tr>\n",
       "    <tr>\n",
       "      <th>1</th>\n",
       "      <td>Answer.asian.on</td>\n",
       "      <td>0.043539</td>\n",
       "      <td>0.031525</td>\n",
       "      <td>2.212682e-01</td>\n",
       "    </tr>\n",
       "    <tr>\n",
       "      <th>16</th>\n",
       "      <td>Answer.asianPartner.on</td>\n",
       "      <td>0.042796</td>\n",
       "      <td>0.016915</td>\n",
       "      <td>2.175752e-01</td>\n",
       "    </tr>\n",
       "    <tr>\n",
       "      <th>30</th>\n",
       "      <td>Answer.luveri.gallery</td>\n",
       "      <td>0.042219</td>\n",
       "      <td>0.101333</td>\n",
       "      <td>1.509396e-01</td>\n",
       "    </tr>\n",
       "    <tr>\n",
       "      <th>8</th>\n",
       "      <td>Answer.aboveIncome.on</td>\n",
       "      <td>0.038122</td>\n",
       "      <td>-0.030473</td>\n",
       "      <td>1.447408e-01</td>\n",
       "    </tr>\n",
       "    <tr>\n",
       "      <th>0</th>\n",
       "      <td>Answer.longYes.on</td>\n",
       "      <td>0.036813</td>\n",
       "      <td>-0.203152</td>\n",
       "      <td>2.162383e-01</td>\n",
       "    </tr>\n",
       "    <tr>\n",
       "      <th>6</th>\n",
       "      <td>Answer.black.on</td>\n",
       "      <td>0.036492</td>\n",
       "      <td>-0.021774</td>\n",
       "      <td>3.166553e-02</td>\n",
       "    </tr>\n",
       "    <tr>\n",
       "      <th>35</th>\n",
       "      <td>Answer.luveri.watch</td>\n",
       "      <td>0.036213</td>\n",
       "      <td>0.146683</td>\n",
       "      <td>7.547012e-02</td>\n",
       "    </tr>\n",
       "    <tr>\n",
       "      <th>32</th>\n",
       "      <td>Answer.luveri.map</td>\n",
       "      <td>0.035757</td>\n",
       "      <td>-0.189591</td>\n",
       "      <td>1.832635e-01</td>\n",
       "    </tr>\n",
       "    <tr>\n",
       "      <th>29</th>\n",
       "      <td>Answer.luveri.cmt</td>\n",
       "      <td>0.035752</td>\n",
       "      <td>-0.126173</td>\n",
       "      <td>3.143536e-01</td>\n",
       "    </tr>\n",
       "    <tr>\n",
       "      <th>33</th>\n",
       "      <td>Answer.luveri.note</td>\n",
       "      <td>0.034776</td>\n",
       "      <td>0.134138</td>\n",
       "      <td>2.474042e-01</td>\n",
       "    </tr>\n",
       "    <tr>\n",
       "      <th>7</th>\n",
       "      <td>Answer.belowIncome.on</td>\n",
       "      <td>0.034668</td>\n",
       "      <td>0.154112</td>\n",
       "      <td>3.983768e-01</td>\n",
       "    </tr>\n",
       "    <tr>\n",
       "      <th>36</th>\n",
       "      <td>Answer.luveri.chat</td>\n",
       "      <td>0.033091</td>\n",
       "      <td>0.142340</td>\n",
       "      <td>3.592839e-01</td>\n",
       "    </tr>\n",
       "    <tr>\n",
       "      <th>4</th>\n",
       "      <td>Answer.hislatin.on</td>\n",
       "      <td>0.032719</td>\n",
       "      <td>-0.012489</td>\n",
       "      <td>2.653791e-01</td>\n",
       "    </tr>\n",
       "    <tr>\n",
       "      <th>17</th>\n",
       "      <td>Answer.hislatinPartner.on</td>\n",
       "      <td>0.032689</td>\n",
       "      <td>-0.027516</td>\n",
       "      <td>2.961312e-01</td>\n",
       "    </tr>\n",
       "    <tr>\n",
       "      <th>25</th>\n",
       "      <td>Answer.nameYes.on</td>\n",
       "      <td>0.031647</td>\n",
       "      <td>0.197726</td>\n",
       "      <td>2.215117e-01</td>\n",
       "    </tr>\n",
       "    <tr>\n",
       "      <th>12</th>\n",
       "      <td>Answer.aboveIncomePartner.on</td>\n",
       "      <td>0.029103</td>\n",
       "      <td>-0.028318</td>\n",
       "      <td>2.902659e-01</td>\n",
       "    </tr>\n",
       "    <tr>\n",
       "      <th>10</th>\n",
       "      <td>Answer.belowIncomePartner.on</td>\n",
       "      <td>0.028844</td>\n",
       "      <td>0.065577</td>\n",
       "      <td>5.427317e-01</td>\n",
       "    </tr>\n",
       "    <tr>\n",
       "      <th>11</th>\n",
       "      <td>Answer.middleIncomePartner.on</td>\n",
       "      <td>0.024767</td>\n",
       "      <td>0.028600</td>\n",
       "      <td>4.471022e-01</td>\n",
       "    </tr>\n",
       "    <tr>\n",
       "      <th>9</th>\n",
       "      <td>Answer.middleIncome.on</td>\n",
       "      <td>0.022291</td>\n",
       "      <td>-0.055647</td>\n",
       "      <td>6.565738e-01</td>\n",
       "    </tr>\n",
       "    <tr>\n",
       "      <th>31</th>\n",
       "      <td>Answer.luveri.home</td>\n",
       "      <td>0.018450</td>\n",
       "      <td>0.051700</td>\n",
       "      <td>7.634914e-01</td>\n",
       "    </tr>\n",
       "    <tr>\n",
       "      <th>2</th>\n",
       "      <td>Answer.white.on</td>\n",
       "      <td>0.016910</td>\n",
       "      <td>-0.011033</td>\n",
       "      <td>7.397480e-01</td>\n",
       "    </tr>\n",
       "    <tr>\n",
       "      <th>3</th>\n",
       "      <td>Answer.other.on</td>\n",
       "      <td>0.015268</td>\n",
       "      <td>-0.021775</td>\n",
       "      <td>6.196852e-01</td>\n",
       "    </tr>\n",
       "    <tr>\n",
       "      <th>18</th>\n",
       "      <td>Answer.otherPartner.on</td>\n",
       "      <td>0.015268</td>\n",
       "      <td>-0.021775</td>\n",
       "      <td>6.196852e-01</td>\n",
       "    </tr>\n",
       "    <tr>\n",
       "      <th>15</th>\n",
       "      <td>Answer.whitePartner.on</td>\n",
       "      <td>0.014866</td>\n",
       "      <td>0.015873</td>\n",
       "      <td>8.186466e-01</td>\n",
       "    </tr>\n",
       "    <tr>\n",
       "      <th>13</th>\n",
       "      <td>Answer.mixPartner.on</td>\n",
       "      <td>0.010552</td>\n",
       "      <td>0.023238</td>\n",
       "      <td>9.200473e-01</td>\n",
       "    </tr>\n",
       "    <tr>\n",
       "      <th>5</th>\n",
       "      <td>Answer.mix.on</td>\n",
       "      <td>0.006128</td>\n",
       "      <td>0.074189</td>\n",
       "      <td>9.920067e-01</td>\n",
       "    </tr>\n",
       "  </tbody>\n",
       "</table>\n",
       "</div>"
      ],
      "text/plain": [
       "                         features  Mutual_Information      Corr        pvalue\n",
       "20               Answer.confident            2.034060  1.000000  0.000000e+00\n",
       "26              Answer.specialDay            0.493240  0.617947  1.686107e-18\n",
       "22                 Answer.leisure            0.472726  0.512281  4.018918e-18\n",
       "21                  Answer.future            0.401133  0.443235  1.665181e-17\n",
       "24                    Answer.love            0.381117  0.460289  4.355942e-16\n",
       "19                    Answer.call            0.335060  0.272481  8.715662e-08\n",
       "27                    Answer.text            0.317113  0.273128  7.406160e-06\n",
       "28                 Answer.without            0.297877  0.005659  2.504705e-02\n",
       "23               Answer.appYes.on            0.071308 -0.233246  5.690819e-03\n",
       "14         Answer.blackPartner.on            0.046867  0.020015  2.350546e-02\n",
       "1                 Answer.asian.on            0.043539  0.031525  2.212682e-01\n",
       "16         Answer.asianPartner.on            0.042796  0.016915  2.175752e-01\n",
       "30          Answer.luveri.gallery            0.042219  0.101333  1.509396e-01\n",
       "8           Answer.aboveIncome.on            0.038122 -0.030473  1.447408e-01\n",
       "0               Answer.longYes.on            0.036813 -0.203152  2.162383e-01\n",
       "6                 Answer.black.on            0.036492 -0.021774  3.166553e-02\n",
       "35            Answer.luveri.watch            0.036213  0.146683  7.547012e-02\n",
       "32              Answer.luveri.map            0.035757 -0.189591  1.832635e-01\n",
       "29              Answer.luveri.cmt            0.035752 -0.126173  3.143536e-01\n",
       "33             Answer.luveri.note            0.034776  0.134138  2.474042e-01\n",
       "7           Answer.belowIncome.on            0.034668  0.154112  3.983768e-01\n",
       "36             Answer.luveri.chat            0.033091  0.142340  3.592839e-01\n",
       "4              Answer.hislatin.on            0.032719 -0.012489  2.653791e-01\n",
       "17      Answer.hislatinPartner.on            0.032689 -0.027516  2.961312e-01\n",
       "25              Answer.nameYes.on            0.031647  0.197726  2.215117e-01\n",
       "12   Answer.aboveIncomePartner.on            0.029103 -0.028318  2.902659e-01\n",
       "10   Answer.belowIncomePartner.on            0.028844  0.065577  5.427317e-01\n",
       "11  Answer.middleIncomePartner.on            0.024767  0.028600  4.471022e-01\n",
       "9          Answer.middleIncome.on            0.022291 -0.055647  6.565738e-01\n",
       "31             Answer.luveri.home            0.018450  0.051700  7.634914e-01\n",
       "2                 Answer.white.on            0.016910 -0.011033  7.397480e-01\n",
       "3                 Answer.other.on            0.015268 -0.021775  6.196852e-01\n",
       "18         Answer.otherPartner.on            0.015268 -0.021775  6.196852e-01\n",
       "15         Answer.whitePartner.on            0.014866  0.015873  8.186466e-01\n",
       "13           Answer.mixPartner.on            0.010552  0.023238  9.200473e-01\n",
       "5                   Answer.mix.on            0.006128  0.074189  9.920067e-01"
      ]
     },
     "execution_count": 7,
     "metadata": {},
     "output_type": "execute_result"
    }
   ],
   "source": [
    "\n",
    "features += ['years_diff']\n",
    "label = 'Answer.confident'\n",
    "\n",
    "measurements = []\n",
    "shortlist = []\n",
    "listcorr = []\n",
    "listpvalue = []\n",
    "\n",
    "for i in features:\n",
    "    if len(list(set(lol[i]))) <= 11:\n",
    "        \n",
    "        xd = mutual_information(i, label)\n",
    "        corr = np.corrcoef(lol[label], lol[i])[0][1]\n",
    "        pvalue = independence(label, i)\n",
    "        \n",
    "        listpvalue.append(pvalue)\n",
    "        listcorr.append(corr)\n",
    "        measurements.append(xd)\n",
    "        shortlist.append(i)\n",
    "    \n",
    "resultdf = pd.DataFrame()\n",
    "resultdf['features'] = shortlist\n",
    "resultdf['Mutual_Information'] = measurements\n",
    "resultdf['Corr'] = listcorr\n",
    "resultdf['pvalue'] = listpvalue\n",
    "\n",
    "resultdf_top10 = resultdf.sort_values(by=['Mutual_Information'],axis=0, ascending=False)\n",
    "resultdf_top10.drop(34)"
   ]
  },
  {
   "cell_type": "code",
   "execution_count": 8,
   "id": "00e9f785",
   "metadata": {},
   "outputs": [
    {
     "data": {
      "image/png": "[encoded data removed]",
      "text/plain": [
       "<Figure size 432x288 with 1 Axes>"
      ]
     },
     "metadata": {
      "needs_background": "light"
     },
     "output_type": "display_data"
    }
   ],
   "source": [
    "import matplotlib.pyplot as plt\n",
    "\n",
    "resultdf_top10 = resultdf_top10.drop(34)\n",
    "N = 8\n",
    "ind = np.arange(N) \n",
    "width = 0.35\n",
    "\n",
    "data1 = list(resultdf_top10['Mutual_Information'][1:9])\n",
    "data2 = list(resultdf_top10['features'][1:9])\n",
    "data3 = list(resultdf_top10['Corr'][1:9])\n",
    "#resultdf[:10].plot.bar(y='Mutual_Information', x='features')\n",
    "\n",
    "# plt.barh(data2, data1, label = 'Mutual Information')\n",
    "# plt.barh(data2, data3, label = 'Corr')\n",
    "# plt.legend()\n",
    "\n",
    "plt.barh(ind, data1, width, label='Mutual Information')\n",
    "plt.barh(ind+width, data3, width, label='Corr')\n",
    "\n",
    "#plt.ylabel('Features')\n",
    "\n",
    "plt.yticks(ind + width / 2, data2)\n",
    "plt.legend(loc='best')\n",
    "plt.title('Features affecting Confident')\n",
    "plt.show()"
   ]
  },
  {
   "cell_type": "code",
   "execution_count": 9,
   "id": "95ec21cd",
   "metadata": {},
   "outputs": [
    {
     "data": {
      "text/plain": [
       "<matplotlib.legend.Legend at 0x1909b96efa0>"
      ]
     },
     "execution_count": 9,
     "metadata": {},
     "output_type": "execute_result"
    },
    {
     "data": {
      "image/png": "[encoded data removed]",
      "text/plain": [
       "<Figure size 432x288 with 1 Axes>"
      ]
     },
     "metadata": {
      "needs_background": "light"
     },
     "output_type": "display_data"
    }
   ],
   "source": [
    "meanlist = []\n",
    "countlist = []\n",
    "stdlist = []\n",
    "for i in range(11):\n",
    "    meanlist.append(np.mean(lol[lol['Answer.confident'] ==i]['Answer.without'] ))\n",
    "    countlist.append(lol[lol['Answer.confident']==i].shape[0])\n",
    "    stdlist.append(np.std((lol[lol['Answer.confident'] ==i]['Answer.without'] )))\n",
    "    \n",
    "plt.plot(stdlist, label='std')\n",
    "plt.plot(meanlist, label='mean')\n",
    "plt.plot(countlist, label='count')\n",
    "plt.legend()"
   ]
  },
  {
   "cell_type": "code",
   "execution_count": 10,
   "id": "cd603158",
   "metadata": {
    "scrolled": true
   },
   "outputs": [
    {
     "data": {
      "text/html": [
       "<div>\n",
       "<style scoped>\n",
       "    .dataframe tbody tr th:only-of-type {\n",
       "        vertical-align: middle;\n",
       "    }\n",
       "\n",
       "    .dataframe tbody tr th {\n",
       "        vertical-align: top;\n",
       "    }\n",
       "\n",
       "    .dataframe thead th {\n",
       "        text-align: right;\n",
       "    }\n",
       "</style>\n",
       "<table border=\"1\" class=\"dataframe\">\n",
       "  <thead>\n",
       "    <tr style=\"text-align: right;\">\n",
       "      <th></th>\n",
       "      <th>Answer.specialDay</th>\n",
       "      <th>Answer.leisure</th>\n",
       "      <th>Answer.future</th>\n",
       "      <th>Answer.love</th>\n",
       "      <th>Answer.call</th>\n",
       "      <th>Answer.text</th>\n",
       "      <th>Answer.without</th>\n",
       "      <th>Answer.appYes.on</th>\n",
       "    </tr>\n",
       "  </thead>\n",
       "  <tbody>\n",
       "    <tr>\n",
       "      <th>Answer.specialDay</th>\n",
       "      <td>1.000000</td>\n",
       "      <td>0.629621</td>\n",
       "      <td>0.544899</td>\n",
       "      <td>0.465530</td>\n",
       "      <td>0.363188</td>\n",
       "      <td>0.360469</td>\n",
       "      <td>-0.004970</td>\n",
       "      <td>-0.027509</td>\n",
       "    </tr>\n",
       "    <tr>\n",
       "      <th>Answer.leisure</th>\n",
       "      <td>0.629621</td>\n",
       "      <td>1.000000</td>\n",
       "      <td>0.393422</td>\n",
       "      <td>0.459270</td>\n",
       "      <td>0.383983</td>\n",
       "      <td>0.389097</td>\n",
       "      <td>0.084442</td>\n",
       "      <td>-0.061389</td>\n",
       "    </tr>\n",
       "    <tr>\n",
       "      <th>Answer.future</th>\n",
       "      <td>0.544899</td>\n",
       "      <td>0.393422</td>\n",
       "      <td>1.000000</td>\n",
       "      <td>0.465016</td>\n",
       "      <td>0.447070</td>\n",
       "      <td>0.467446</td>\n",
       "      <td>0.103540</td>\n",
       "      <td>-0.000174</td>\n",
       "    </tr>\n",
       "    <tr>\n",
       "      <th>Answer.love</th>\n",
       "      <td>0.465530</td>\n",
       "      <td>0.459270</td>\n",
       "      <td>0.465016</td>\n",
       "      <td>1.000000</td>\n",
       "      <td>0.441877</td>\n",
       "      <td>0.614418</td>\n",
       "      <td>0.075869</td>\n",
       "      <td>-0.201559</td>\n",
       "    </tr>\n",
       "    <tr>\n",
       "      <th>Answer.call</th>\n",
       "      <td>0.363188</td>\n",
       "      <td>0.383983</td>\n",
       "      <td>0.447070</td>\n",
       "      <td>0.441877</td>\n",
       "      <td>1.000000</td>\n",
       "      <td>0.429291</td>\n",
       "      <td>0.047215</td>\n",
       "      <td>0.026151</td>\n",
       "    </tr>\n",
       "    <tr>\n",
       "      <th>Answer.text</th>\n",
       "      <td>0.360469</td>\n",
       "      <td>0.389097</td>\n",
       "      <td>0.467446</td>\n",
       "      <td>0.614418</td>\n",
       "      <td>0.429291</td>\n",
       "      <td>1.000000</td>\n",
       "      <td>0.124226</td>\n",
       "      <td>-0.001100</td>\n",
       "    </tr>\n",
       "    <tr>\n",
       "      <th>Answer.without</th>\n",
       "      <td>-0.004970</td>\n",
       "      <td>0.084442</td>\n",
       "      <td>0.103540</td>\n",
       "      <td>0.075869</td>\n",
       "      <td>0.047215</td>\n",
       "      <td>0.124226</td>\n",
       "      <td>1.000000</td>\n",
       "      <td>0.096686</td>\n",
       "    </tr>\n",
       "    <tr>\n",
       "      <th>Answer.appYes.on</th>\n",
       "      <td>-0.027509</td>\n",
       "      <td>-0.061389</td>\n",
       "      <td>-0.000174</td>\n",
       "      <td>-0.201559</td>\n",
       "      <td>0.026151</td>\n",
       "      <td>-0.001100</td>\n",
       "      <td>0.096686</td>\n",
       "      <td>1.000000</td>\n",
       "    </tr>\n",
       "  </tbody>\n",
       "</table>\n",
       "</div>"
      ],
      "text/plain": [
       "                   Answer.specialDay  Answer.leisure  Answer.future  \\\n",
       "Answer.specialDay           1.000000        0.629621       0.544899   \n",
       "Answer.leisure              0.629621        1.000000       0.393422   \n",
       "Answer.future               0.544899        0.393422       1.000000   \n",
       "Answer.love                 0.465530        0.459270       0.465016   \n",
       "Answer.call                 0.363188        0.383983       0.447070   \n",
       "Answer.text                 0.360469        0.389097       0.467446   \n",
       "Answer.without             -0.004970        0.084442       0.103540   \n",
       "Answer.appYes.on           -0.027509       -0.061389      -0.000174   \n",
       "\n",
       "                   Answer.love  Answer.call  Answer.text  Answer.without  \\\n",
       "Answer.specialDay     0.465530     0.363188     0.360469       -0.004970   \n",
       "Answer.leisure        0.459270     0.383983     0.389097        0.084442   \n",
       "Answer.future         0.465016     0.447070     0.467446        0.103540   \n",
       "Answer.love           1.000000     0.441877     0.614418        0.075869   \n",
       "Answer.call           0.441877     1.000000     0.429291        0.047215   \n",
       "Answer.text           0.614418     0.429291     1.000000        0.124226   \n",
       "Answer.without        0.075869     0.047215     0.124226        1.000000   \n",
       "Answer.appYes.on     -0.201559     0.026151    -0.001100        0.096686   \n",
       "\n",
       "                   Answer.appYes.on  \n",
       "Answer.specialDay         -0.027509  \n",
       "Answer.leisure            -0.061389  \n",
       "Answer.future             -0.000174  \n",
       "Answer.love               -0.201559  \n",
       "Answer.call                0.026151  \n",
       "Answer.text               -0.001100  \n",
       "Answer.without             0.096686  \n",
       "Answer.appYes.on           1.000000  "
      ]
     },
     "execution_count": 10,
     "metadata": {},
     "output_type": "execute_result"
    }
   ],
   "source": [
    "pickfeatures = ['Answer.specialDay', 'Answer.leisure', 'Answer.future', 'Answer.love',\n",
    "                 'Answer.call', 'Answer.text', 'Answer.without', \n",
    "                 'Answer.appYes.on']\n",
    "lol[pickfeatures].corr()"
   ]
  },
  {
   "cell_type": "code",
   "execution_count": 11,
   "id": "1989f1b6",
   "metadata": {},
   "outputs": [],
   "source": [
    "shortfeatures = ['Answer.specialDay', 'Answer.call', 'Answer.without', 'Answer.appYes.on']\n"
   ]
  },
  {
   "cell_type": "code",
   "execution_count": 12,
   "id": "f9f1b184",
   "metadata": {},
   "outputs": [
    {
     "name": "stdout",
     "output_type": "stream",
     "text": [
      "Mean squared error: 3.39\n",
      "Coefficient of determination: 0.43\n"
     ]
    }
   ],
   "source": [
    "import matplotlib.pyplot as plt\n",
    "import numpy as np\n",
    "from sklearn import datasets, linear_model\n",
    "from sklearn.metrics import mean_squared_error, r2_score\n",
    "\n",
    "X = lol[shortfeatures]\n",
    "y = lol['Answer.confident']\n",
    "regr = linear_model.LinearRegression()\n",
    "\n",
    "regr.fit(X, y)\n",
    "\n",
    "y_pred = regr.predict(X)\n",
    "\n",
    "print(\"Mean squared error: %.2f\" % mean_squared_error(y, y_pred))\n",
    "print(\"Coefficient of determination: %.2f\" % r2_score(y, y_pred))"
   ]
  },
  {
   "cell_type": "code",
   "execution_count": 13,
   "id": "989b7a8d",
   "metadata": {},
   "outputs": [
    {
     "data": {
      "text/plain": [
       "array([ 0.56971961,  0.05361383,  0.02632814, -1.09142708])"
      ]
     },
     "execution_count": 13,
     "metadata": {},
     "output_type": "execute_result"
    }
   ],
   "source": [
    "regr.coef_"
   ]
  },
  {
   "cell_type": "code",
   "execution_count": 15,
   "id": "4b83769e",
   "metadata": {},
   "outputs": [
    {
     "data": {
      "text/plain": [
       "3.5963070097798164"
      ]
     },
     "execution_count": 15,
     "metadata": {},
     "output_type": "execute_result"
    }
   ],
   "source": [
    "regr.intercept_"
   ]
  },
  {
   "cell_type": "code",
   "execution_count": 34,
   "id": "3d84276c",
   "metadata": {
    "scrolled": true
   },
   "outputs": [
    {
     "data": {
      "text/html": [
       "<div>\n",
       "<style scoped>\n",
       "    .dataframe tbody tr th:only-of-type {\n",
       "        vertical-align: middle;\n",
       "    }\n",
       "\n",
       "    .dataframe tbody tr th {\n",
       "        vertical-align: top;\n",
       "    }\n",
       "\n",
       "    .dataframe thead th {\n",
       "        text-align: right;\n",
       "    }\n",
       "</style>\n",
       "<table border=\"1\" class=\"dataframe\">\n",
       "  <thead>\n",
       "    <tr style=\"text-align: right;\">\n",
       "      <th></th>\n",
       "      <th>features</th>\n",
       "      <th>Mutual_Information</th>\n",
       "      <th>Corr</th>\n",
       "      <th>pvalue</th>\n",
       "    </tr>\n",
       "  </thead>\n",
       "  <tbody>\n",
       "    <tr>\n",
       "      <th>24</th>\n",
       "      <td>Answer.love</td>\n",
       "      <td>1.551894</td>\n",
       "      <td>1.000000</td>\n",
       "      <td>0.000000e+00</td>\n",
       "    </tr>\n",
       "    <tr>\n",
       "      <th>27</th>\n",
       "      <td>Answer.text</td>\n",
       "      <td>0.489674</td>\n",
       "      <td>0.614418</td>\n",
       "      <td>3.442441e-26</td>\n",
       "    </tr>\n",
       "    <tr>\n",
       "      <th>21</th>\n",
       "      <td>Answer.future</td>\n",
       "      <td>0.422186</td>\n",
       "      <td>0.465016</td>\n",
       "      <td>3.283094e-18</td>\n",
       "    </tr>\n",
       "    <tr>\n",
       "      <th>22</th>\n",
       "      <td>Answer.leisure</td>\n",
       "      <td>0.395366</td>\n",
       "      <td>0.459270</td>\n",
       "      <td>1.134061e-08</td>\n",
       "    </tr>\n",
       "    <tr>\n",
       "      <th>19</th>\n",
       "      <td>Answer.call</td>\n",
       "      <td>0.393729</td>\n",
       "      <td>0.441877</td>\n",
       "      <td>5.923039e-12</td>\n",
       "    </tr>\n",
       "    <tr>\n",
       "      <th>20</th>\n",
       "      <td>Answer.confident</td>\n",
       "      <td>0.381117</td>\n",
       "      <td>0.460289</td>\n",
       "      <td>4.355942e-16</td>\n",
       "    </tr>\n",
       "    <tr>\n",
       "      <th>26</th>\n",
       "      <td>Answer.specialDay</td>\n",
       "      <td>0.348109</td>\n",
       "      <td>0.465530</td>\n",
       "      <td>1.176634e-07</td>\n",
       "    </tr>\n",
       "    <tr>\n",
       "      <th>28</th>\n",
       "      <td>Answer.without</td>\n",
       "      <td>0.228019</td>\n",
       "      <td>0.075869</td>\n",
       "      <td>7.330261e-01</td>\n",
       "    </tr>\n",
       "    <tr>\n",
       "      <th>23</th>\n",
       "      <td>Answer.appYes.on</td>\n",
       "      <td>0.094726</td>\n",
       "      <td>-0.201559</td>\n",
       "      <td>6.617396e-04</td>\n",
       "    </tr>\n",
       "    <tr>\n",
       "      <th>35</th>\n",
       "      <td>Answer.luveri.watch</td>\n",
       "      <td>0.061588</td>\n",
       "      <td>0.148704</td>\n",
       "      <td>5.647862e-05</td>\n",
       "    </tr>\n",
       "    <tr>\n",
       "      <th>0</th>\n",
       "      <td>Answer.longYes.on</td>\n",
       "      <td>0.054902</td>\n",
       "      <td>-0.076305</td>\n",
       "      <td>4.990262e-02</td>\n",
       "    </tr>\n",
       "    <tr>\n",
       "      <th>8</th>\n",
       "      <td>Answer.aboveIncome.on</td>\n",
       "      <td>0.045629</td>\n",
       "      <td>0.043634</td>\n",
       "      <td>1.218102e-01</td>\n",
       "    </tr>\n",
       "    <tr>\n",
       "      <th>33</th>\n",
       "      <td>Answer.luveri.note</td>\n",
       "      <td>0.044631</td>\n",
       "      <td>0.147533</td>\n",
       "      <td>2.196933e-01</td>\n",
       "    </tr>\n",
       "    <tr>\n",
       "      <th>30</th>\n",
       "      <td>Answer.luveri.gallery</td>\n",
       "      <td>0.042917</td>\n",
       "      <td>0.011879</td>\n",
       "      <td>1.586552e-01</td>\n",
       "    </tr>\n",
       "    <tr>\n",
       "      <th>9</th>\n",
       "      <td>Answer.middleIncome.on</td>\n",
       "      <td>0.042546</td>\n",
       "      <td>-0.075223</td>\n",
       "      <td>1.978874e-01</td>\n",
       "    </tr>\n",
       "    <tr>\n",
       "      <th>29</th>\n",
       "      <td>Answer.luveri.cmt</td>\n",
       "      <td>0.039237</td>\n",
       "      <td>-0.150382</td>\n",
       "      <td>3.620919e-01</td>\n",
       "    </tr>\n",
       "    <tr>\n",
       "      <th>10</th>\n",
       "      <td>Answer.belowIncomePartner.on</td>\n",
       "      <td>0.035376</td>\n",
       "      <td>0.072988</td>\n",
       "      <td>1.041568e-01</td>\n",
       "    </tr>\n",
       "    <tr>\n",
       "      <th>31</th>\n",
       "      <td>Answer.luveri.home</td>\n",
       "      <td>0.034651</td>\n",
       "      <td>-0.001981</td>\n",
       "      <td>3.711103e-01</td>\n",
       "    </tr>\n",
       "    <tr>\n",
       "      <th>36</th>\n",
       "      <td>Answer.luveri.chat</td>\n",
       "      <td>0.034414</td>\n",
       "      <td>0.176602</td>\n",
       "      <td>4.529409e-01</td>\n",
       "    </tr>\n",
       "    <tr>\n",
       "      <th>14</th>\n",
       "      <td>Answer.blackPartner.on</td>\n",
       "      <td>0.030331</td>\n",
       "      <td>-0.018872</td>\n",
       "      <td>9.356578e-03</td>\n",
       "    </tr>\n",
       "    <tr>\n",
       "      <th>6</th>\n",
       "      <td>Answer.black.on</td>\n",
       "      <td>0.028872</td>\n",
       "      <td>-0.051173</td>\n",
       "      <td>6.268207e-03</td>\n",
       "    </tr>\n",
       "    <tr>\n",
       "      <th>32</th>\n",
       "      <td>Answer.luveri.map</td>\n",
       "      <td>0.027951</td>\n",
       "      <td>-0.057916</td>\n",
       "      <td>5.134283e-01</td>\n",
       "    </tr>\n",
       "    <tr>\n",
       "      <th>15</th>\n",
       "      <td>Answer.whitePartner.on</td>\n",
       "      <td>0.021678</td>\n",
       "      <td>0.069481</td>\n",
       "      <td>6.024826e-01</td>\n",
       "    </tr>\n",
       "    <tr>\n",
       "      <th>16</th>\n",
       "      <td>Answer.asianPartner.on</td>\n",
       "      <td>0.020661</td>\n",
       "      <td>-0.010194</td>\n",
       "      <td>6.908383e-01</td>\n",
       "    </tr>\n",
       "    <tr>\n",
       "      <th>34</th>\n",
       "      <td>Answer.luveri.timeline</td>\n",
       "      <td>0.020006</td>\n",
       "      <td>0.154664</td>\n",
       "      <td>7.477040e-01</td>\n",
       "    </tr>\n",
       "    <tr>\n",
       "      <th>7</th>\n",
       "      <td>Answer.belowIncome.on</td>\n",
       "      <td>0.019696</td>\n",
       "      <td>0.064315</td>\n",
       "      <td>7.543540e-01</td>\n",
       "    </tr>\n",
       "    <tr>\n",
       "      <th>17</th>\n",
       "      <td>Answer.hislatinPartner.on</td>\n",
       "      <td>0.019039</td>\n",
       "      <td>-0.089354</td>\n",
       "      <td>4.836573e-01</td>\n",
       "    </tr>\n",
       "    <tr>\n",
       "      <th>12</th>\n",
       "      <td>Answer.aboveIncomePartner.on</td>\n",
       "      <td>0.018607</td>\n",
       "      <td>-0.085070</td>\n",
       "      <td>7.377867e-01</td>\n",
       "    </tr>\n",
       "    <tr>\n",
       "      <th>2</th>\n",
       "      <td>Answer.white.on</td>\n",
       "      <td>0.018465</td>\n",
       "      <td>0.045541</td>\n",
       "      <td>7.264385e-01</td>\n",
       "    </tr>\n",
       "    <tr>\n",
       "      <th>1</th>\n",
       "      <td>Answer.asian.on</td>\n",
       "      <td>0.018355</td>\n",
       "      <td>0.020173</td>\n",
       "      <td>8.097241e-01</td>\n",
       "    </tr>\n",
       "    <tr>\n",
       "      <th>11</th>\n",
       "      <td>Answer.middleIncomePartner.on</td>\n",
       "      <td>0.018112</td>\n",
       "      <td>0.073817</td>\n",
       "      <td>7.937272e-01</td>\n",
       "    </tr>\n",
       "    <tr>\n",
       "      <th>25</th>\n",
       "      <td>Answer.nameYes.on</td>\n",
       "      <td>0.017414</td>\n",
       "      <td>0.058994</td>\n",
       "      <td>7.102025e-01</td>\n",
       "    </tr>\n",
       "    <tr>\n",
       "      <th>4</th>\n",
       "      <td>Answer.hislatin.on</td>\n",
       "      <td>0.013538</td>\n",
       "      <td>-0.053050</td>\n",
       "      <td>8.794882e-01</td>\n",
       "    </tr>\n",
       "    <tr>\n",
       "      <th>3</th>\n",
       "      <td>Answer.other.on</td>\n",
       "      <td>0.008684</td>\n",
       "      <td>0.075459</td>\n",
       "      <td>9.926166e-01</td>\n",
       "    </tr>\n",
       "    <tr>\n",
       "      <th>18</th>\n",
       "      <td>Answer.otherPartner.on</td>\n",
       "      <td>0.008684</td>\n",
       "      <td>0.075459</td>\n",
       "      <td>9.926166e-01</td>\n",
       "    </tr>\n",
       "    <tr>\n",
       "      <th>13</th>\n",
       "      <td>Answer.mixPartner.on</td>\n",
       "      <td>0.006213</td>\n",
       "      <td>0.042394</td>\n",
       "      <td>9.860902e-01</td>\n",
       "    </tr>\n",
       "    <tr>\n",
       "      <th>5</th>\n",
       "      <td>Answer.mix.on</td>\n",
       "      <td>0.002875</td>\n",
       "      <td>0.043348</td>\n",
       "      <td>9.999447e-01</td>\n",
       "    </tr>\n",
       "  </tbody>\n",
       "</table>\n",
       "</div>"
      ],
      "text/plain": [
       "                         features  Mutual_Information      Corr        pvalue\n",
       "24                    Answer.love            1.551894  1.000000  0.000000e+00\n",
       "27                    Answer.text            0.489674  0.614418  3.442441e-26\n",
       "21                  Answer.future            0.422186  0.465016  3.283094e-18\n",
       "22                 Answer.leisure            0.395366  0.459270  1.134061e-08\n",
       "19                    Answer.call            0.393729  0.441877  5.923039e-12\n",
       "20               Answer.confident            0.381117  0.460289  4.355942e-16\n",
       "26              Answer.specialDay            0.348109  0.465530  1.176634e-07\n",
       "28                 Answer.without            0.228019  0.075869  7.330261e-01\n",
       "23               Answer.appYes.on            0.094726 -0.201559  6.617396e-04\n",
       "35            Answer.luveri.watch            0.061588  0.148704  5.647862e-05\n",
       "0               Answer.longYes.on            0.054902 -0.076305  4.990262e-02\n",
       "8           Answer.aboveIncome.on            0.045629  0.043634  1.218102e-01\n",
       "33             Answer.luveri.note            0.044631  0.147533  2.196933e-01\n",
       "30          Answer.luveri.gallery            0.042917  0.011879  1.586552e-01\n",
       "9          Answer.middleIncome.on            0.042546 -0.075223  1.978874e-01\n",
       "29              Answer.luveri.cmt            0.039237 -0.150382  3.620919e-01\n",
       "10   Answer.belowIncomePartner.on            0.035376  0.072988  1.041568e-01\n",
       "31             Answer.luveri.home            0.034651 -0.001981  3.711103e-01\n",
       "36             Answer.luveri.chat            0.034414  0.176602  4.529409e-01\n",
       "14         Answer.blackPartner.on            0.030331 -0.018872  9.356578e-03\n",
       "6                 Answer.black.on            0.028872 -0.051173  6.268207e-03\n",
       "32              Answer.luveri.map            0.027951 -0.057916  5.134283e-01\n",
       "15         Answer.whitePartner.on            0.021678  0.069481  6.024826e-01\n",
       "16         Answer.asianPartner.on            0.020661 -0.010194  6.908383e-01\n",
       "34         Answer.luveri.timeline            0.020006  0.154664  7.477040e-01\n",
       "7           Answer.belowIncome.on            0.019696  0.064315  7.543540e-01\n",
       "17      Answer.hislatinPartner.on            0.019039 -0.089354  4.836573e-01\n",
       "12   Answer.aboveIncomePartner.on            0.018607 -0.085070  7.377867e-01\n",
       "2                 Answer.white.on            0.018465  0.045541  7.264385e-01\n",
       "1                 Answer.asian.on            0.018355  0.020173  8.097241e-01\n",
       "11  Answer.middleIncomePartner.on            0.018112  0.073817  7.937272e-01\n",
       "25              Answer.nameYes.on            0.017414  0.058994  7.102025e-01\n",
       "4              Answer.hislatin.on            0.013538 -0.053050  8.794882e-01\n",
       "3                 Answer.other.on            0.008684  0.075459  9.926166e-01\n",
       "18         Answer.otherPartner.on            0.008684  0.075459  9.926166e-01\n",
       "13           Answer.mixPartner.on            0.006213  0.042394  9.860902e-01\n",
       "5                   Answer.mix.on            0.002875  0.043348  9.999447e-01"
      ]
     },
     "execution_count": 34,
     "metadata": {},
     "output_type": "execute_result"
    }
   ],
   "source": [
    "\n",
    "features += ['years_diff']\n",
    "label = 'Answer.love'\n",
    "\n",
    "measurements = []\n",
    "shortlist = []\n",
    "listcorr = []\n",
    "listpvalue = []\n",
    "\n",
    "for i in features:\n",
    "    if len(list(set(lol[i]))) <= 11:\n",
    "        \n",
    "        xd = mutual_information(i, label)\n",
    "        corr = np.corrcoef(lol[label], lol[i])[0][1]\n",
    "        pvalue = independence(label, i)\n",
    "        \n",
    "        listpvalue.append(pvalue)\n",
    "        listcorr.append(corr)\n",
    "        measurements.append(xd)\n",
    "        shortlist.append(i)\n",
    "    \n",
    "resultdf = pd.DataFrame()\n",
    "resultdf['features'] = shortlist\n",
    "resultdf['Mutual_Information'] = measurements\n",
    "resultdf['Corr'] = listcorr\n",
    "resultdf['pvalue'] = listpvalue\n",
    "\n",
    "resultdf_top10 = resultdf.sort_values(by=['Mutual_Information'],axis=0, ascending=False)\n",
    "resultdf_top10"
   ]
  },
  {
   "cell_type": "code",
   "execution_count": 36,
   "id": "d462f782",
   "metadata": {},
   "outputs": [
    {
     "data": {
      "image/png": "[encoded data removed]",
      "text/plain": [
       "<Figure size 432x288 with 1 Axes>"
      ]
     },
     "metadata": {
      "needs_background": "light"
     },
     "output_type": "display_data"
    }
   ],
   "source": [
    "import matplotlib.pyplot as plt\n",
    "\n",
    "N = 8\n",
    "ind = np.arange(N) \n",
    "width = 0.35\n",
    "\n",
    "data1 = list(resultdf_top10['Mutual_Information'][1:9])\n",
    "data2 = list(resultdf_top10['features'][1:9])\n",
    "data3 = list(resultdf_top10['Corr'][1:9])\n",
    "#resultdf[:10].plot.bar(y='Mutual_Information', x='features')\n",
    "\n",
    "# plt.barh(data2, data1, label = 'Mutual Information')\n",
    "# plt.barh(data2, data3, label = 'Corr')\n",
    "# plt.legend()\n",
    "\n",
    "plt.barh(ind, data1, width, label='Mutual Information')\n",
    "plt.barh(ind+width, data3, width, label='Corr')\n",
    "\n",
    "#plt.ylabel('Features')\n",
    "\n",
    "plt.yticks(ind + width / 2, data2)\n",
    "plt.legend(loc='best')\n",
    "plt.title('Features affecting Love')\n",
    "plt.show()"
   ]
  },
  {
   "cell_type": "code",
   "execution_count": 56,
   "id": "0d19ba59",
   "metadata": {},
   "outputs": [
    {
     "data": {
      "text/html": [
       "<div>\n",
       "<style scoped>\n",
       "    .dataframe tbody tr th:only-of-type {\n",
       "        vertical-align: middle;\n",
       "    }\n",
       "\n",
       "    .dataframe tbody tr th {\n",
       "        vertical-align: top;\n",
       "    }\n",
       "\n",
       "    .dataframe thead th {\n",
       "        text-align: right;\n",
       "    }\n",
       "</style>\n",
       "<table border=\"1\" class=\"dataframe\">\n",
       "  <thead>\n",
       "    <tr style=\"text-align: right;\">\n",
       "      <th></th>\n",
       "      <th>Answer.text</th>\n",
       "      <th>Answer.future</th>\n",
       "      <th>Answer.leisure</th>\n",
       "      <th>Answer.call</th>\n",
       "      <th>Answer.specialDay</th>\n",
       "      <th>Answer.without</th>\n",
       "      <th>Answer.appYes.on</th>\n",
       "    </tr>\n",
       "  </thead>\n",
       "  <tbody>\n",
       "    <tr>\n",
       "      <th>Answer.text</th>\n",
       "      <td>1.000000</td>\n",
       "      <td>0.467446</td>\n",
       "      <td>0.389097</td>\n",
       "      <td>0.429291</td>\n",
       "      <td>0.360469</td>\n",
       "      <td>0.124226</td>\n",
       "      <td>-0.001100</td>\n",
       "    </tr>\n",
       "    <tr>\n",
       "      <th>Answer.future</th>\n",
       "      <td>0.467446</td>\n",
       "      <td>1.000000</td>\n",
       "      <td>0.393422</td>\n",
       "      <td>0.447070</td>\n",
       "      <td>0.544899</td>\n",
       "      <td>0.103540</td>\n",
       "      <td>-0.000174</td>\n",
       "    </tr>\n",
       "    <tr>\n",
       "      <th>Answer.leisure</th>\n",
       "      <td>0.389097</td>\n",
       "      <td>0.393422</td>\n",
       "      <td>1.000000</td>\n",
       "      <td>0.383983</td>\n",
       "      <td>0.629621</td>\n",
       "      <td>0.084442</td>\n",
       "      <td>-0.061389</td>\n",
       "    </tr>\n",
       "    <tr>\n",
       "      <th>Answer.call</th>\n",
       "      <td>0.429291</td>\n",
       "      <td>0.447070</td>\n",
       "      <td>0.383983</td>\n",
       "      <td>1.000000</td>\n",
       "      <td>0.363188</td>\n",
       "      <td>0.047215</td>\n",
       "      <td>0.026151</td>\n",
       "    </tr>\n",
       "    <tr>\n",
       "      <th>Answer.specialDay</th>\n",
       "      <td>0.360469</td>\n",
       "      <td>0.544899</td>\n",
       "      <td>0.629621</td>\n",
       "      <td>0.363188</td>\n",
       "      <td>1.000000</td>\n",
       "      <td>-0.004970</td>\n",
       "      <td>-0.027509</td>\n",
       "    </tr>\n",
       "    <tr>\n",
       "      <th>Answer.without</th>\n",
       "      <td>0.124226</td>\n",
       "      <td>0.103540</td>\n",
       "      <td>0.084442</td>\n",
       "      <td>0.047215</td>\n",
       "      <td>-0.004970</td>\n",
       "      <td>1.000000</td>\n",
       "      <td>0.096686</td>\n",
       "    </tr>\n",
       "    <tr>\n",
       "      <th>Answer.appYes.on</th>\n",
       "      <td>-0.001100</td>\n",
       "      <td>-0.000174</td>\n",
       "      <td>-0.061389</td>\n",
       "      <td>0.026151</td>\n",
       "      <td>-0.027509</td>\n",
       "      <td>0.096686</td>\n",
       "      <td>1.000000</td>\n",
       "    </tr>\n",
       "  </tbody>\n",
       "</table>\n",
       "</div>"
      ],
      "text/plain": [
       "                   Answer.text  Answer.future  Answer.leisure  Answer.call  \\\n",
       "Answer.text           1.000000       0.467446        0.389097     0.429291   \n",
       "Answer.future         0.467446       1.000000        0.393422     0.447070   \n",
       "Answer.leisure        0.389097       0.393422        1.000000     0.383983   \n",
       "Answer.call           0.429291       0.447070        0.383983     1.000000   \n",
       "Answer.specialDay     0.360469       0.544899        0.629621     0.363188   \n",
       "Answer.without        0.124226       0.103540        0.084442     0.047215   \n",
       "Answer.appYes.on     -0.001100      -0.000174       -0.061389     0.026151   \n",
       "\n",
       "                   Answer.specialDay  Answer.without  Answer.appYes.on  \n",
       "Answer.text                 0.360469        0.124226         -0.001100  \n",
       "Answer.future               0.544899        0.103540         -0.000174  \n",
       "Answer.leisure              0.629621        0.084442         -0.061389  \n",
       "Answer.call                 0.363188        0.047215          0.026151  \n",
       "Answer.specialDay           1.000000       -0.004970         -0.027509  \n",
       "Answer.without             -0.004970        1.000000          0.096686  \n",
       "Answer.appYes.on           -0.027509        0.096686          1.000000  "
      ]
     },
     "execution_count": 56,
     "metadata": {},
     "output_type": "execute_result"
    }
   ],
   "source": [
    "pickfeatures2 = ['Answer.text', 'Answer.future', 'Answer.leisure', 'Answer.call', 'Answer.specialDay', 'Answer.without',\n",
    "                'Answer.appYes.on']\n",
    "lol[pickfeatures2].corr()"
   ]
  },
  {
   "cell_type": "code",
   "execution_count": 16,
   "id": "014d2df7",
   "metadata": {},
   "outputs": [],
   "source": [
    "shortfeatures2 = ['Answer.text', 'Answer.without', 'Answer.appYes.on']"
   ]
  },
  {
   "cell_type": "code",
   "execution_count": 17,
   "id": "f361b529",
   "metadata": {},
   "outputs": [
    {
     "name": "stdout",
     "output_type": "stream",
     "text": [
      "Mean squared error: 4.02\n",
      "Coefficient of determination: 0.42\n"
     ]
    }
   ],
   "source": [
    "import matplotlib.pyplot as plt\n",
    "import numpy as np\n",
    "from sklearn import datasets, linear_model\n",
    "from sklearn.metrics import mean_squared_error, r2_score\n",
    "\n",
    "X = lol[shortfeatures2]\n",
    "y = lol['Answer.love']\n",
    "regr = linear_model.LinearRegression()\n",
    "\n",
    "regr.fit(X, y)\n",
    "\n",
    "y_pred = regr.predict(X)\n",
    "\n",
    "print(\"Mean squared error: %.2f\" % mean_squared_error(y, y_pred))\n",
    "print(\"Coefficient of determination: %.2f\" % r2_score(y, y_pred))"
   ]
  },
  {
   "cell_type": "code",
   "execution_count": 18,
   "id": "d30b0981",
   "metadata": {},
   "outputs": [
    {
     "data": {
      "text/plain": [
       "array([ 0.60090057,  0.02040345, -1.07469723])"
      ]
     },
     "execution_count": 18,
     "metadata": {},
     "output_type": "execute_result"
    }
   ],
   "source": [
    "regr.coef_"
   ]
  },
  {
   "cell_type": "code",
   "execution_count": 40,
   "id": "dbd0082a",
   "metadata": {},
   "outputs": [
    {
     "data": {
      "text/plain": [
       "<AxesSubplot:>"
      ]
     },
     "execution_count": 40,
     "metadata": {},
     "output_type": "execute_result"
    },
    {
     "data": {
      "image/png": "[encoded data removed]",
      "text/plain": [
       "<Figure size 432x288 with 1 Axes>"
      ]
     },
     "metadata": {
      "needs_background": "light"
     },
     "output_type": "display_data"
    }
   ],
   "source": [
    "lol.boxplot(column= ['Answer.love', 'Answer.appYes.on'])"
   ]
  },
  {
   "cell_type": "code",
   "execution_count": 44,
   "id": "52cc4d53",
   "metadata": {
    "scrolled": true
   },
   "outputs": [
    {
     "data": {
      "text/plain": [
       "{'whiskers': [<matplotlib.lines.Line2D at 0x1b758012c70>,\n",
       "  <matplotlib.lines.Line2D at 0x1b75801f040>,\n",
       "  <matplotlib.lines.Line2D at 0x1b75802d4c0>,\n",
       "  <matplotlib.lines.Line2D at 0x1b75802d820>],\n",
       " 'caps': [<matplotlib.lines.Line2D at 0x1b75801f3a0>,\n",
       "  <matplotlib.lines.Line2D at 0x1b75801f700>,\n",
       "  <matplotlib.lines.Line2D at 0x1b75802db80>,\n",
       "  <matplotlib.lines.Line2D at 0x1b75802dee0>],\n",
       " 'boxes': [<matplotlib.lines.Line2D at 0x1b758012910>,\n",
       "  <matplotlib.lines.Line2D at 0x1b75802d160>],\n",
       " 'medians': [<matplotlib.lines.Line2D at 0x1b75801fa60>,\n",
       "  <matplotlib.lines.Line2D at 0x1b758038280>],\n",
       " 'fliers': [<matplotlib.lines.Line2D at 0x1b75801fdc0>,\n",
       "  <matplotlib.lines.Line2D at 0x1b7580385e0>],\n",
       " 'means': []}"
      ]
     },
     "execution_count": 44,
     "metadata": {},
     "output_type": "execute_result"
    },
    {
     "data": {
      "image/png": "[encoded data removed]",
      "text/plain": [
       "<Figure size 432x288 with 1 Axes>"
      ]
     },
     "metadata": {
      "needs_background": "light"
     },
     "output_type": "display_data"
    }
   ],
   "source": [
    "data1 = lol[lol['Answer.appYes.on'] == True]['Answer.love']\n",
    "data2 = lol[lol['Answer.appYes.on'] == False]['Answer.love']\n",
    "\n",
    "data = [data1, data2]\n",
    "plt.boxplot(data)"
   ]
  },
  {
   "cell_type": "code",
   "execution_count": 50,
   "id": "ee57a5a5",
   "metadata": {},
   "outputs": [
    {
     "data": {
      "text/plain": [
       "144    10\n",
       "Name: Answer.confident, dtype: int64"
      ]
     },
     "execution_count": 50,
     "metadata": {},
     "output_type": "execute_result"
    }
   ],
   "source": [
    "lol[(lol['Answer.appYes.on'] == False) & (lol['Answer.love'] == 0) ]['Answer.confident']"
   ]
  },
  {
   "cell_type": "code",
   "execution_count": 58,
   "id": "56e41fe4",
   "metadata": {},
   "outputs": [
    {
     "data": {
      "text/plain": [
       "84     6\n",
       "88     7\n",
       "182    4\n",
       "Name: Answer.confident, dtype: int64"
      ]
     },
     "execution_count": 58,
     "metadata": {},
     "output_type": "execute_result"
    }
   ],
   "source": [
    "lol[(lol['Answer.appYes.on'] == False) & (lol['Answer.love'] == 5) ]['Answer.confident']"
   ]
  },
  {
   "cell_type": "code",
   "execution_count": 59,
   "id": "1f928b9f",
   "metadata": {},
   "outputs": [
    {
     "data": {
      "text/plain": [
       "36    5\n",
       "Name: Answer.confident, dtype: int64"
      ]
     },
     "execution_count": 59,
     "metadata": {},
     "output_type": "execute_result"
    }
   ],
   "source": [
    "lol[(lol['Answer.appYes.on'] == False) & (lol['Answer.love'] == 6) ]['Answer.confident']"
   ]
  },
  {
   "cell_type": "code",
   "execution_count": 60,
   "id": "003231e3",
   "metadata": {},
   "outputs": [
    {
     "data": {
      "text/plain": [
       "46      6\n",
       "67      6\n",
       "90      8\n",
       "105    10\n",
       "107     6\n",
       "Name: Answer.confident, dtype: int64"
      ]
     },
     "execution_count": 60,
     "metadata": {},
     "output_type": "execute_result"
    }
   ],
   "source": [
    "lol[(lol['Answer.appYes.on'] == False) & (lol['Answer.love'] == 7) ]['Answer.confident']"
   ]
  },
  {
   "cell_type": "code",
   "execution_count": 61,
   "id": "e41359ac",
   "metadata": {},
   "outputs": [
    {
     "data": {
      "text/plain": [
       "24      5\n",
       "43      6\n",
       "108     6\n",
       "130     1\n",
       "143     8\n",
       "171    10\n",
       "184     6\n",
       "Name: Answer.confident, dtype: int64"
      ]
     },
     "execution_count": 61,
     "metadata": {},
     "output_type": "execute_result"
    }
   ],
   "source": [
    "lol[(lol['Answer.appYes.on'] == True) & (lol['Answer.love'] == 0) ]['Answer.confident']"
   ]
  },
  {
   "cell_type": "code",
   "execution_count": 77,
   "id": "20d5242d",
   "metadata": {},
   "outputs": [
    {
     "data": {
      "text/plain": [
       "Answer.love\n",
       "0      7\n",
       "1      1\n",
       "2      1\n",
       "3      4\n",
       "4      5\n",
       "5      4\n",
       "6     11\n",
       "8      9\n",
       "9      8\n",
       "10    63\n",
       "Name: years_diff, dtype: int64"
      ]
     },
     "execution_count": 77,
     "metadata": {},
     "output_type": "execute_result"
    }
   ],
   "source": [
    "data1 = lol[lol['Answer.appYes.on'] == True]\n",
    "xd = data1.groupby('Answer.love').count()['years_diff']\n"
   ]
  },
  {
   "cell_type": "code",
   "execution_count": 78,
   "id": "007b5bb8",
   "metadata": {},
   "outputs": [
    {
     "data": {
      "text/plain": [
       "Answer.love\n",
       "0      1\n",
       "1      1\n",
       "5      3\n",
       "6      1\n",
       "7      5\n",
       "8      9\n",
       "9     18\n",
       "10    50\n",
       "Name: years_diff, dtype: int64"
      ]
     },
     "execution_count": 78,
     "metadata": {},
     "output_type": "execute_result"
    }
   ],
   "source": [
    "data2 = lol[lol['Answer.appYes.on'] == False]\n",
    "xd = data2.groupby('Answer.love').count()['years_diff']\n",
    "xd"
   ]
  },
  {
   "cell_type": "code",
   "execution_count": 82,
   "id": "0294170f",
   "metadata": {
    "scrolled": true
   },
   "outputs": [
    {
     "data": {
      "text/plain": [
       "-0.04668958345439323"
      ]
     },
     "execution_count": 82,
     "metadata": {},
     "output_type": "execute_result"
    }
   ],
   "source": [
    "remove_a_bit = lol[lol['Answer.love'] >= 5]\n",
    "np.corrcoef(remove_a_bit['Answer.love'], remove_a_bit['Answer.appYes.on'])[0][1]"
   ]
  },
  {
   "cell_type": "code",
   "execution_count": null,
   "id": "333398a4",
   "metadata": {},
   "outputs": [],
   "source": []
  }
 ],
 "metadata": {
  "kernelspec": {
   "display_name": "Python 3",
   "language": "python",
   "name": "python3"
  },
  "language_info": {
   "codemirror_mode": {
    "name": "ipython",
    "version": 3
   },
   "file_extension": ".py",
   "mimetype": "text/x-python",
   "name": "python",
   "nbconvert_exporter": "python",
   "pygments_lexer": "ipython3",
   "version": "3.8.8"
  }
 },
 "nbformat": 4,
 "nbformat_minor": 5
}
